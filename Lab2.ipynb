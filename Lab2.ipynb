{
 "cells": [
  {
   "cell_type": "markdown",
   "id": "29c174f6-9e81-43b1-bb36-2a63c96cb4f5",
   "metadata": {},
   "source": [
    "# Lab 2: Understanding dynamics in complex systems\n",
    "\n",
    "Last week we looked at models of networks, and explored some of the metrics and visualisation techniques we could use to analyse these networks.  This week we turn our attention more specifically to dynamics.  We will use ordinary differential equations to model time dependent complex systems and use some elements of bifurcation analysis to understand the outputs of these models.  \n",
    "\n",
    "Specifically, let's look at a classic model that underpins complex systems models in a range of applications, from brain dynamics to opinion dynamics: the Kuramoto model.  The Kuramoto model is a 'minimal model' describing oscillator dynamics, and the emergence of oscillator synchronisation.  At its simplest it is an all-to-all network of $N$ oscillators, with each oscillator having its own intrinsic frequency $\\omega_i$, and inter-oscillator coupling strength $K$:\n",
    "\n",
    "$$\\frac{d\\theta_i}{dt} = \\omega_i + \\frac{K}{N}\\sum_{j=1}^N \\sin(\\theta_j - \\theta_i), \\;\\;\\;\\; i = 1,...,N$$\n",
    "\n",
    "where $\\theta_i$ describes the phase of the $i$th oscillator.\n",
    "\n",
    "There is an enormous amount of work that has been done on this system of equations, and high impact papers are continuing to be published on extensions to the base model.  For an early overview of results see the work by Strogatz (https://www.sciencedirect.com/science/article/pii/S0167278900000944).\n"
   ]
  },
  {
   "cell_type": "markdown",
   "id": "4565ac9e-71da-460f-b1c4-d7c0c4b104b1",
   "metadata": {},
   "source": [
    "## Exercise 1: The simplest related model\n",
    "A common start point when modelling is to consider first a model which is as simple as possible while still having some connection to the original model.  We will try that here, and in doing so practice using some of the 1D bifurcation analysis content we encountered in the lectures."
   ]
  },
  {
   "cell_type": "markdown",
   "id": "4b500172-2755-4c43-be2d-ef7286d7687d",
   "metadata": {},
   "source": [
    "### 1a)\n",
    "\n",
    "Firstly, let's make sure we can read the full model correctly.  Answer the following questions: what order is this system?  Is this system linear or nonlinear (and justify your answer)?  What would we modify if wanted this system to model a network of oscillators without all-to-all connectivity?"
   ]
  },
  {
   "cell_type": "code",
   "execution_count": null,
   "id": "38ba4772-1d01-4b7e-b91c-e6a7ac3dcbfe",
   "metadata": {},
   "outputs": [],
   "source": []
  },
  {
   "cell_type": "markdown",
   "id": "f5aaab5b-1bc9-4ed5-b0d2-fc5c0f786c6f",
   "metadata": {},
   "source": [
    "### 1b)\n",
    "The simplest possible version of this model is just the one oscillator coupled to a stationary 'oscillator' at fixed phase $\\theta = 0$.  Rewrite this model taking this information into account.  What is the order of the system now?"
   ]
  },
  {
   "cell_type": "code",
   "execution_count": null,
   "id": "1d99fc9d-3026-42b4-8a9f-36965aaa0940",
   "metadata": {},
   "outputs": [],
   "source": []
  },
  {
   "cell_type": "markdown",
   "id": "937582b0-338b-4ef1-b0c5-fa4bd62f2dea",
   "metadata": {},
   "source": [
    "### 1c)\n",
    "Carry out fixed point analysis on the system found in 1b.  How many fixed points are there, and what are their stability?  For the case $\\omega = 1$, $K = 2$ represent the results on the phase line."
   ]
  },
  {
   "cell_type": "code",
   "execution_count": null,
   "id": "c2778867-8762-4102-8027-3678403985b6",
   "metadata": {},
   "outputs": [],
   "source": []
  },
  {
   "cell_type": "markdown",
   "id": "42765bab-3087-4a31-b6cc-fdd6919f15e3",
   "metadata": {},
   "source": [
    "### 1d)\n",
    "Sketch the bifurcation diagram as a function of $K$.  What, if any, bifurcations occur in this model?  Identify any bifurcation types and bifurcation points."
   ]
  },
  {
   "cell_type": "code",
   "execution_count": null,
   "id": "a7a747d6-866b-449e-b42c-e5d0d0eb2bfe",
   "metadata": {},
   "outputs": [],
   "source": []
  },
  {
   "cell_type": "markdown",
   "id": "e5d1ff24-f602-4cc2-976e-6250bc51b9bc",
   "metadata": {},
   "source": [
    "<div style=\"background-color:lightcyan;\">\n",
    "<span style=\"color:red\"><center> <h1> Exercise 1 Submission</h1></center></span>\n",
    "<p>Describe your bifurcation diagram in part 1d and identify any bifurcation types and bifurcation points.</p>\n",
    "</div>"
   ]
  },
  {
   "cell_type": "markdown",
   "id": "bcff20c1-c812-4a64-ae6d-d08ba2c706a4",
   "metadata": {},
   "source": [
    "## Exercise 2: Increasing the order of the problem\n",
    "In the lectures we looked at a two dimensional model of relationships.  We can apply what we learnt there to this next version of the problem.  "
   ]
  },
  {
   "cell_type": "markdown",
   "id": "b802d47a-cc51-4baf-8ce5-c140ebfc5995",
   "metadata": {},
   "source": [
    "### 2a)\n",
    "Let's now allow the oscillator fixed in the previous exercise to move.  Consider two oscillators, but both with $\\omega = 0$.  Write down the model for this system."
   ]
  },
  {
   "cell_type": "markdown",
   "id": "f179bb20",
   "metadata": {},
   "source": [
    "\n",
    "\\begin{aligned}\n",
    "\\dot{\\theta}_1 &= \\frac{K}{2}\\,\\sin(\\theta_2 - \\theta_1), \\\\\n",
    "\\dot{\\theta}_2 &= \\frac{K}{2}\\,\\sin(\\theta_1 - \\theta_2).\n",
    "\\end{aligned}\n",
    "\n",
    "Or equivalently,\n",
    "\n",
    "\\begin{aligned}\n",
    "\\phi &=  \\theta_2 - \\theta_1\\\\\n",
    "\\dot{\\phi} &= K\\sin(\\phi)\n",
    "\\end{aligned}"
   ]
  },
  {
   "cell_type": "markdown",
   "id": "01709dca-100e-42c2-b9d4-d6aa958c7822",
   "metadata": {},
   "source": [
    "### 2b)\n",
    "Identify any fixed points in the system and analyse the behaviour of the oscillators close to any fixed points.  "
   ]
  },
  {
   "cell_type": "markdown",
   "id": "e8da170b",
   "metadata": {},
   "source": [
    "Fixed points at $\\phi=\\theta_2-\\theta_1=0,\\pi$. In other words, if the two oscillators have the same phase or opposite phase. \n",
    "\n",
    "For positive K, the same phase (i.e. = 0 case) is a stable fixed point, while the out of phase case is unstable. The inverse is true for negative K."
   ]
  },
  {
   "cell_type": "markdown",
   "id": "25863e72-7e91-4d22-a111-fbe55bdcfd6b",
   "metadata": {},
   "source": [
    "### 2c)\n",
    "How does this system relate to the 'model of relationships' examined in the lectures?"
   ]
  },
  {
   "cell_type": "code",
   "execution_count": null,
   "id": "8fc14020-15ed-4a45-ab98-41608b587305",
   "metadata": {},
   "outputs": [],
   "source": []
  },
  {
   "cell_type": "markdown",
   "id": "d7d65678-fac2-4d52-9662-e10666936c53",
   "metadata": {},
   "source": [
    "### 2d)\n",
    "Sketch the bifurcation diagram as a function of $K$.  What, if any, bifurcations occur in this model?  Identify any bifurcation types and bifurcation points."
   ]
  },
  {
   "cell_type": "code",
   "execution_count": null,
   "id": "696a4748-a15b-431e-8bc7-8a6d2166457a",
   "metadata": {},
   "outputs": [],
   "source": []
  },
  {
   "cell_type": "markdown",
   "id": "3369f47e-957b-43e4-a27d-a99e5d07e1eb",
   "metadata": {},
   "source": [
    "<div style=\"background-color:lightcyan;\">\n",
    "<span style=\"color:red\"><center> <h1> Exercise 2 Submission</h1></center></span>\n",
    "<p>Describe your bifurcation diagram in 2d and identify any bifurcation types and bifurcation points.</p>\n",
    "</div>"
   ]
  },
  {
   "cell_type": "markdown",
   "id": "e4263313-6007-4faf-9984-51edfd8997ee",
   "metadata": {},
   "source": [
    "## Exercise 3: Simulating the full problem\n",
    "We are now ready to tackle the full Kuramoto model problem.  We would like to do this in a way that minimises the use of for loops, so that the simulations run in a reasonable time in Python.  To do this we will have to rewrite our derivatives function in a matrix form.  We will assume we have a matrix of coupling strengths (an adjacency matrix, specifying the connectivity of the oscillators) and vectors of the oscillator phases and the oscillator natural frequencies.  We will then use `scipy.integrate.solve_ivp` to numerically integrate the system of equations."
   ]
  },
  {
   "cell_type": "markdown",
   "id": "cc0a98ee-2231-4167-a8b8-448ec238ff7e",
   "metadata": {},
   "source": [
    "### 3a) **Advanced**\n",
    "In preparation for the full $N$ oscillator problem (with $N$ a control parameter), let's rewrite the two oscillator problem in terms of matrices and vectors.  Let's take ${\\bf K}$ as a coupling matrix, with $K_{ij}$ describing the coupling between the $i$ and $j$ oscillators (let's take the coupling to be symmetric).  Show that we can return a vector of $d{\\bf \\theta}/dt$ values given a vector of oscillator phases $\\theta$ through the following relation:\n",
    "$$\\frac{d\\theta}{dt} = \\omega + (\\cos \\theta [\\bf{K}\\sin(\\theta)] - \\sin\\theta [\\bf{K}\\cos\\theta])/N$$\n",
    "where $\\omega$ is also a vector.  Note, the products inside the square brackets involves a matrix multiplying a vector (in Python you use the `@` symbol to specify this).\n",
    "\n",
    "You may find the following identity useful:\n",
    "$$\\sin(\\theta_j - \\theta_i) = \\sin\\theta_j\\cos\\theta_i - \\cos\\theta_j\\sin\\theta_i.$$"
   ]
  },
  {
   "cell_type": "code",
   "execution_count": null,
   "id": "cedbbeb7-9cba-4839-bc75-d967609eeccf",
   "metadata": {},
   "outputs": [],
   "source": []
  },
  {
   "cell_type": "markdown",
   "id": "66660328-7ec1-42dc-ad6b-7826d625bf44",
   "metadata": {},
   "source": [
    "### 3b)\n",
    "Using the relation derived in 3a) solve the problem numerically with symmetric coupling of $K = 1$ between two oscillators and $\\omega$ and initial phases $\\theta(0)$ chosen from the uniform random distribution $[0,2\\pi)$ for both oscillators. Plot the phases of the oscillators versus $t$."
   ]
  },
  {
   "cell_type": "code",
   "execution_count": 17,
   "id": "42278d3a-e709-41e9-9ddb-d122015c116c",
   "metadata": {},
   "outputs": [
    {
     "name": "stdout",
     "output_type": "stream",
     "text": [
      "omega = [3.21587011 5.97193953]\n",
      "theta(0) = [0.90578156 5.96054027]\n"
     ]
    },
    {
     "data": {
      "image/png": "[encoded data removed]",
      "text/plain": [
       "<Figure size 800x500 with 1 Axes>"
      ]
     },
     "metadata": {},
     "output_type": "display_data"
    }
   ],
   "source": [
    "# two_kuramoto.py\n",
    "# Simulate two Kuramoto oscillators with symmetric coupling K=1\n",
    "# Using the mean-field form:\n",
    "# dθ_i/dt = ω_i + (K/N) [ cos(θ_i) * Σ_j sin(θ_j) - sin(θ_i) * Σ_j cos(θ_j) ]\n",
    "# with N = 2.\n",
    "\n",
    "import numpy as np\n",
    "import matplotlib.pyplot as plt\n",
    "\n",
    "# --- parameters ---\n",
    "N = 2\n",
    "K = 1\n",
    "T = 20.0          # total time\n",
    "dt = 0.01\n",
    "steps = int(T / dt)\n",
    "\n",
    "# For reproducibility, set a seed (or remove this line for fresh draws each run)\n",
    "rng = np.random.default_rng(1)\n",
    "\n",
    "# Natural frequencies and initial phases ~ U(0, 2π)\n",
    "omega = rng.uniform(0.0, 2*np.pi, size=N)\n",
    "theta0 = rng.uniform(0.0, 2*np.pi, size=N)\n",
    "\n",
    "def rhs(theta):\n",
    "    \"\"\"Right-hand side of the mean-field Kuramoto equations for general N.\"\"\"\n",
    "    s = np.sin(theta).sum()\n",
    "    c = np.cos(theta).sum()\n",
    "    return omega + (K / N) * (np.cos(theta) * s - np.sin(theta) * c)\n",
    "\n",
    "# --- integrate with RK4 ---\n",
    "theta = np.empty((steps + 1, N), dtype=float)\n",
    "theta[0] = theta0.copy()\n",
    "t = np.linspace(0.0, T, steps + 1)\n",
    "\n",
    "for n in range(steps):\n",
    "    th = theta[n]\n",
    "    k1 = rhs(th)\n",
    "    k2 = rhs(th + 0.5 * dt * k1)\n",
    "    k3 = rhs(th + 0.5 * dt * k2)\n",
    "    k4 = rhs(th + dt * k3)\n",
    "    theta[n + 1] = th + (dt / 6.0) * (k1 + 2*k2 + 2*k3 + k4)\n",
    "\n",
    "# Wrap phases to [0, 2π) for plotting readability\n",
    "# theta_wrapped = np.mod(theta, 2*np.pi)\n",
    "theta_wrapped = theta\n",
    "\n",
    "print(f\"omega = {omega}\")\n",
    "print(f\"theta(0) = {theta0}\")\n",
    "\n",
    "# --- plot ---\n",
    "plt.figure(figsize=(8, 5))\n",
    "plt.plot(t, theta_wrapped[:, 0], label=r'$\\theta_1(t)$')\n",
    "plt.plot(t, theta_wrapped[:, 1], label=r'$\\theta_2(t)$')\n",
    "plt.xlabel('t')\n",
    "plt.ylabel('phase (rad)')\n",
    "plt.title('Two coupled Kuramoto oscillators (K=1)')\n",
    "plt.legend()\n",
    "plt.tight_layout()\n",
    "plt.show()\n"
   ]
  },
  {
   "cell_type": "markdown",
   "id": "89f7df9a-1a80-4be0-82cb-5db6b63ad0d1",
   "metadata": {},
   "source": [
    "### 3c)\n",
    "Solve the problem now for $N = 20$ oscillators.  Vary your value of $K$ and examine the results.  Do you see any evidence of a qualitative change in your results (i.e. evidence of a bifurcation)?"
   ]
  },
  {
   "cell_type": "code",
   "execution_count": null,
   "id": "ada0712e-89b1-4ad8-914b-b726ded23a9e",
   "metadata": {},
   "outputs": [],
   "source": []
  },
  {
   "cell_type": "markdown",
   "id": "40bc1570-7945-4b53-bbea-5df114712c02",
   "metadata": {},
   "source": [
    "### 3d)\n",
    "It is difficult to analyse a series of different oscillators.  We would like to have some quantity that we can monitor as a function of a control parameter.  For the Kuramoto oscillator case this is served by introducing an 'order parameter' which captures the mean field behaviour of the collection of oscillators.  The complex order parameter is defined by the following equation:\n",
    "$$re^{i\\psi} = \\frac{1}{N}\\sum_{j=1}^N e^{i\\theta_j}.$$\n",
    "The order parameter serves to capture the centroid of the oscillator motion, with $r(t)$ measuring the phase coherence and $\\psi(t)$ measuring the average phase.  We can see from the definition that if all the oscillator phases are identical (i.e. all $\\theta_j$ equal) then $r = 1$ and $\\psi = \\theta_j$.  In this case the oscillators are synchronised.  If instead the oscillators are equally spaced around the unit circle then $r = 0$ (zero synchronisation).  For $K = 3$ (constant across an all-to-all network) and $N = 20$ plot $r(t)$ and $\\psi(t)$ versus $t$ for $t\\in[0,50]$.  Interpret your results."
   ]
  },
  {
   "cell_type": "code",
   "execution_count": null,
   "id": "948394d9-c205-41b0-a1da-973bd58c883d",
   "metadata": {},
   "outputs": [],
   "source": []
  },
  {
   "cell_type": "markdown",
   "id": "3055b961-dfda-43d8-b618-13d015fab3ec",
   "metadata": {},
   "source": [
    "<div style=\"background-color:lightcyan;\">\n",
    "<span style=\"color:red\"><center> <h1> Exercise 3 Submission</h1></center></span>\n",
    "<p>Submit the plot you produced for 3d.</p>\n",
    "</div>"
   ]
  },
  {
   "cell_type": "markdown",
   "id": "cf86d0ea-f4c8-45df-baad-1725c115f572",
   "metadata": {},
   "source": [
    "## Exercise 4: Bifurcations in the Kuramoto model?\n",
    "We are now ready to perform more sophisticated analysis.  Are bifurcations possible in a system with 20 oscillators?  To explore this question we can examine the nature of the order parameter as a function of a system parameter, such as the coupling strength. "
   ]
  },
  {
   "cell_type": "markdown",
   "id": "648a0ff5-6314-4dbb-b765-a79c8eb27528",
   "metadata": {},
   "source": [
    "### 4a)\n",
    "For the single run conducted in 3d) calculate the average $r$ value across the range $25 \\le t \\le 50$."
   ]
  },
  {
   "cell_type": "code",
   "execution_count": null,
   "id": "5ee0e353-d723-43ac-8e7e-5b3473d24bd3",
   "metadata": {},
   "outputs": [],
   "source": []
  },
  {
   "cell_type": "markdown",
   "id": "27886ce8-274e-41ed-8217-a3593cdb8512",
   "metadata": {},
   "source": [
    "### 4b)\n",
    "Repeat the experiment in 3d) and the calculation in 4a) some number of times, e.g. 100 times, and show a histogram of the results and interpret this."
   ]
  },
  {
   "cell_type": "code",
   "execution_count": null,
   "id": "a403cc1d-46f3-4e84-b11f-354cfeeb06e0",
   "metadata": {},
   "outputs": [],
   "source": []
  },
  {
   "cell_type": "markdown",
   "id": "e86a2efe-53f7-4af1-b327-5d3b9e8593f9",
   "metadata": {},
   "source": [
    "### 4c)\n",
    "Now we are ready to examine the behaviour as a function of a parameter.  Vary the coupling $K \\in [1,5]$ and plot the average $r$ versus $K$.  Note in your title the parameters you have used to carry out your analysis."
   ]
  },
  {
   "cell_type": "code",
   "execution_count": null,
   "id": "ad16e751-3e73-423d-81a3-5b60cc411744",
   "metadata": {},
   "outputs": [],
   "source": []
  },
  {
   "cell_type": "markdown",
   "id": "d6e9e729-2791-4f2a-99b1-9934c6efef45",
   "metadata": {},
   "source": [
    "### 4d)\n",
    "Let's now consider a different distribution of parameters.  Sample the values for $\\omega_i$ from a normal distribution with mean 0 and standard deviation 1.  Carry out again the analysis conducted in 4c and superimpose the results on the same plot as that produced in 4c."
   ]
  },
  {
   "cell_type": "code",
   "execution_count": null,
   "id": "71d41862",
   "metadata": {},
   "outputs": [],
   "source": []
  },
  {
   "cell_type": "markdown",
   "id": "69b2ddfc-0ac0-4279-a2ad-578c9deace1a",
   "metadata": {},
   "source": [
    "<div style=\"background-color:lightcyan;\">\n",
    "<span style=\"color:red\"><center> <h1> Exercise 4 Submission</h1></center></span>\n",
    "<p>Submit the plot you produced for 4d, i.e. the order parameter plot for the two different $\\omega$ distributions.  </p>\n",
    "</div>"
   ]
  },
  {
   "cell_type": "markdown",
   "id": "f9d216fe-7342-4d25-b3b8-53053a1594cc",
   "metadata": {},
   "source": [
    "## Exercise 5 [Optional Extension]: Effect of network connectivity on qualitative dynamics\n",
    "In this final exercise we can now explore how the network structure affects the synchronisation properties of a set of Kuramoto oscillators.  This is an area of current research, so we will just touch on possible directions.\n",
    "\n",
    "One option is to consider a 2D array of oscillators with some spatial dependent coupling (perhaps nearest neighbours on a grid) and explore the types of pattern formation that may occur.  This model is used in brain dynamics work (see e.g. https://www.frontiersin.org/journals/computational-neuroscience/articles/10.3389/fncom.2012.00067/full).  \n",
    "\n",
    "**Question:** Construct a 2D planar model of Kuramoto oscillators, with nearest neighbour coupling, and visualise the dynamics using an image plot. \n",
    "\n",
    "Another option is to consider network connectivity which doesn't necessarily come from a spatial relationship between oscillators.  For instance, this could be a random network of Kuramoto oscillators or a Barabasi-Albert network of Kuramoto oscillators (see e.g. https://journals.aps.org/prl/abstract/10.1103/PhysRevLett.106.128701).\n",
    "\n",
    "**Question:** How do the qualitative properties change when we move from an all-to-all network?  For instance, to a Barabasi-Albert network?\n",
    "\n",
    "In this optional extension, try to construct a network which is not all-to-all and explore how the earlier analysis changes in your case.\n"
   ]
  },
  {
   "cell_type": "code",
   "execution_count": null,
   "id": "afc9e2cb-55ad-43d2-8918-f45cc3fa22e5",
   "metadata": {},
   "outputs": [],
   "source": []
  },
  {
   "cell_type": "markdown",
   "id": "9fa66da7-9fb8-48c6-8da4-75c8aae8ca69",
   "metadata": {},
   "source": [
    "<div style=\"background-color:lightcyan;\">\n",
    "<span style=\"color:red\"><center> <h1> Exercise 5 Submission</h1></center></span>\n",
    "<p>Optionally submit a figure displaying the results of your work.</p>\n",
    "</div>"
   ]
  },
  {
   "cell_type": "code",
   "execution_count": null,
   "id": "4d30ba05-572b-4afd-ab88-e22963e47380",
   "metadata": {},
   "outputs": [],
   "source": []
  }
 ],
 "metadata": {
  "kernelspec": {
   "display_name": "Python 3",
   "language": "python",
   "name": "python3"
  },
  "language_info": {
   "codemirror_mode": {
    "name": "ipython",
    "version": 3
   },
   "file_extension": ".py",
   "mimetype": "text/x-python",
   "name": "python",
   "nbconvert_exporter": "python",
   "pygments_lexer": "ipython3",
   "version": "3.12.3"
  }
 },
 "nbformat": 4,
 "nbformat_minor": 5
}
